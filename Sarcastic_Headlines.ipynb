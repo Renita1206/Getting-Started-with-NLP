{
  "nbformat": 4,
  "nbformat_minor": 0,
  "metadata": {
    "colab": {
      "name": "Sarcastic Headlines.ipynb",
      "provenance": [],
      "collapsed_sections": [],
      "authorship_tag": "ABX9TyOxc4yhTODVxc9hJoNhZ3x7",
      "include_colab_link": true
    },
    "kernelspec": {
      "name": "python3",
      "display_name": "Python 3"
    },
    "language_info": {
      "name": "python"
    }
  },
  "cells": [
    {
      "cell_type": "markdown",
      "metadata": {
        "id": "view-in-github",
        "colab_type": "text"
      },
      "source": [
        "<a href=\"https://colab.research.google.com/github/Renita1206/Getting-Started-with-NLP/blob/main/Sarcastic_Headlines.ipynb\" target=\"_parent\"><img src=\"https://colab.research.google.com/assets/colab-badge.svg\" alt=\"Open In Colab\"/></a>"
      ]
    },
    {
      "cell_type": "markdown",
      "metadata": {
        "id": "KqrMBpVr8O4B"
      },
      "source": [
        "# Loading Data"
      ]
    },
    {
      "cell_type": "code",
      "metadata": {
        "colab": {
          "base_uri": "https://localhost:8080/"
        },
        "id": "5ED0GhKoc1an",
        "outputId": "716c9efe-135d-466e-faf0-4239a2583180"
      },
      "source": [
        "!wget --no-check-certificate \\\n",
        "    https://storage.googleapis.com/laurencemoroney-blog.appspot.com/sarcasm.json \\\n",
        "    -O /tmp/sarcasm.json\n",
        "  \n",
        "\n",
        "import json\n",
        "import tensorflow as tf\n",
        "from tensorflow.keras.preprocessing.text import Tokenizer\n",
        "from tensorflow.keras.preprocessing.sequence import pad_sequences\n",
        "\n",
        "\n",
        "with open(\"/tmp/sarcasm.json\", 'r') as f:\n",
        "    datastore = json.load(f)\n",
        "\n",
        "\n",
        "sentences = [] \n",
        "labels = []\n",
        "urls = []\n",
        "for item in datastore:\n",
        "    sentences.append(item['headline'])\n",
        "    labels.append(item['is_sarcastic'])\n",
        "    urls.append(item['article_link'])\n"
      ],
      "execution_count": null,
      "outputs": [
        {
          "output_type": "stream",
          "text": [
            "--2021-06-30 17:08:14--  https://storage.googleapis.com/laurencemoroney-blog.appspot.com/sarcasm.json\n",
            "Resolving storage.googleapis.com (storage.googleapis.com)... 108.177.120.128, 142.250.128.128, 142.251.6.128, ...\n",
            "Connecting to storage.googleapis.com (storage.googleapis.com)|108.177.120.128|:443... connected.\n",
            "HTTP request sent, awaiting response... 200 OK\n",
            "Length: 5643545 (5.4M) [application/json]\n",
            "Saving to: ‘/tmp/sarcasm.json’\n",
            "\n",
            "\r/tmp/sarcasm.json     0%[                    ]       0  --.-KB/s               \r/tmp/sarcasm.json   100%[===================>]   5.38M  --.-KB/s    in 0.04s   \n",
            "\n",
            "2021-06-30 17:08:14 (146 MB/s) - ‘/tmp/sarcasm.json’ saved [5643545/5643545]\n",
            "\n"
          ],
          "name": "stdout"
        }
      ]
    },
    {
      "cell_type": "markdown",
      "metadata": {
        "id": "yg8I-KtH8WRH"
      },
      "source": [
        "# Working with the data"
      ]
    },
    {
      "cell_type": "code",
      "metadata": {
        "id": "fVNhQRildN5s"
      },
      "source": [
        "vocab_size = 10000\n",
        "embedding_dim = 16\n",
        "max_length = 100\n",
        "trunc_type='post'\n",
        "padding_type='post'\n",
        "oov_tok = \"<OOV>\"\n",
        "training_size = 20000"
      ],
      "execution_count": null,
      "outputs": []
    },
    {
      "cell_type": "code",
      "metadata": {
        "id": "G_wI3JOkwJ3y"
      },
      "source": [
        "training_sentences = sentences[0:training_size]\n",
        "testing_sentences = sentences[training_size:]\n",
        "training_labels = labels[0:training_size]\n",
        "testing_labels = labels[training_size:]"
      ],
      "execution_count": null,
      "outputs": []
    },
    {
      "cell_type": "code",
      "metadata": {
        "id": "8f382TjTwFok"
      },
      "source": [
        "\n",
        "tokenizer = Tokenizer(num_words=vocab_size, oov_token=oov_tok)\n",
        "tokenizer.fit_on_texts(training_sentences)\n",
        "\n",
        "word_index = tokenizer.word_index\n",
        "\n",
        "training_sequences = tokenizer.texts_to_sequences(training_sentences)\n",
        "training_padded = pad_sequences(training_sequences, maxlen=max_length, padding=padding_type, truncating=trunc_type)\n",
        "\n",
        "testing_sequences = tokenizer.texts_to_sequences(testing_sentences)\n",
        "testing_padded = pad_sequences(testing_sequences, maxlen=max_length, padding=padding_type, truncating=trunc_type)\n"
      ],
      "execution_count": null,
      "outputs": []
    },
    {
      "cell_type": "code",
      "metadata": {
        "id": "GrAlWBKf99Ya"
      },
      "source": [
        "# Need this block to get it to work with TensorFlow 2.x\n",
        "import numpy as np\n",
        "training_padded = np.array(training_padded)\n",
        "training_labels = np.array(training_labels)\n",
        "testing_padded = np.array(testing_padded)\n",
        "testing_labels = np.array(testing_labels)"
      ],
      "execution_count": null,
      "outputs": []
    },
    {
      "cell_type": "markdown",
      "metadata": {
        "id": "vgEbr7Mu8bm2"
      },
      "source": [
        "# Training the Model"
      ]
    },
    {
      "cell_type": "code",
      "metadata": {
        "id": "f2DYlJh0wjbh"
      },
      "source": [
        "model = tf.keras.Sequential([\n",
        "    tf.keras.layers.Embedding(vocab_size, embedding_dim, input_length=max_length),\n",
        "    tf.keras.layers.GlobalAveragePooling1D(),\n",
        "    tf.keras.layers.Dense(24, activation='relu'),\n",
        "    tf.keras.layers.Dense(1, activation='sigmoid')\n",
        "])\n",
        "model.compile(loss='binary_crossentropy',optimizer='adam',metrics=['accuracy'])"
      ],
      "execution_count": null,
      "outputs": []
    },
    {
      "cell_type": "code",
      "metadata": {
        "colab": {
          "base_uri": "https://localhost:8080/"
        },
        "id": "2X-XzpCSwpkI",
        "outputId": "592264bc-e09f-460a-f224-faf985d92012"
      },
      "source": [
        "model.summary()"
      ],
      "execution_count": null,
      "outputs": [
        {
          "output_type": "stream",
          "text": [
            "Model: \"sequential\"\n",
            "_________________________________________________________________\n",
            "Layer (type)                 Output Shape              Param #   \n",
            "=================================================================\n",
            "embedding (Embedding)        (None, 100, 16)           160000    \n",
            "_________________________________________________________________\n",
            "global_average_pooling1d (Gl (None, 16)                0         \n",
            "_________________________________________________________________\n",
            "dense (Dense)                (None, 24)                408       \n",
            "_________________________________________________________________\n",
            "dense_1 (Dense)              (None, 1)                 25        \n",
            "=================================================================\n",
            "Total params: 160,433\n",
            "Trainable params: 160,433\n",
            "Non-trainable params: 0\n",
            "_________________________________________________________________\n"
          ],
          "name": "stdout"
        }
      ]
    },
    {
      "cell_type": "code",
      "metadata": {
        "colab": {
          "base_uri": "https://localhost:8080/"
        },
        "id": "UVMwEmWCwrgE",
        "outputId": "bc67bd03-2494-4bde-cd2d-e5db0cca1e41"
      },
      "source": [
        "num_epochs = 30\n",
        "history = model.fit(training_padded, training_labels, epochs=num_epochs, validation_data=(testing_padded, testing_labels), verbose=2)"
      ],
      "execution_count": null,
      "outputs": [
        {
          "output_type": "stream",
          "text": [
            "Epoch 1/30\n",
            "625/625 - 3s - loss: 0.6760 - accuracy: 0.5634 - val_loss: 0.6243 - val_accuracy: 0.7532\n",
            "Epoch 2/30\n",
            "625/625 - 2s - loss: 0.4534 - accuracy: 0.8239 - val_loss: 0.3879 - val_accuracy: 0.8389\n",
            "Epoch 3/30\n",
            "625/625 - 2s - loss: 0.3160 - accuracy: 0.8734 - val_loss: 0.3610 - val_accuracy: 0.8436\n",
            "Epoch 4/30\n",
            "625/625 - 2s - loss: 0.2643 - accuracy: 0.8960 - val_loss: 0.3418 - val_accuracy: 0.8553\n",
            "Epoch 5/30\n",
            "625/625 - 2s - loss: 0.2295 - accuracy: 0.9112 - val_loss: 0.3487 - val_accuracy: 0.8454\n",
            "Epoch 6/30\n",
            "625/625 - 2s - loss: 0.2023 - accuracy: 0.9223 - val_loss: 0.3441 - val_accuracy: 0.8557\n",
            "Epoch 7/30\n",
            "625/625 - 2s - loss: 0.1797 - accuracy: 0.9330 - val_loss: 0.3682 - val_accuracy: 0.8517\n",
            "Epoch 8/30\n",
            "625/625 - 2s - loss: 0.1603 - accuracy: 0.9416 - val_loss: 0.3663 - val_accuracy: 0.8541\n",
            "Epoch 9/30\n",
            "625/625 - 2s - loss: 0.1465 - accuracy: 0.9466 - val_loss: 0.3895 - val_accuracy: 0.8501\n",
            "Epoch 10/30\n",
            "625/625 - 2s - loss: 0.1329 - accuracy: 0.9535 - val_loss: 0.3977 - val_accuracy: 0.8512\n",
            "Epoch 11/30\n",
            "625/625 - 2s - loss: 0.1217 - accuracy: 0.9577 - val_loss: 0.4167 - val_accuracy: 0.8505\n",
            "Epoch 12/30\n",
            "625/625 - 2s - loss: 0.1103 - accuracy: 0.9618 - val_loss: 0.4440 - val_accuracy: 0.8433\n",
            "Epoch 13/30\n",
            "625/625 - 2s - loss: 0.1009 - accuracy: 0.9668 - val_loss: 0.4705 - val_accuracy: 0.8372\n",
            "Epoch 14/30\n",
            "625/625 - 2s - loss: 0.0950 - accuracy: 0.9679 - val_loss: 0.4790 - val_accuracy: 0.8430\n",
            "Epoch 15/30\n",
            "625/625 - 2s - loss: 0.0854 - accuracy: 0.9736 - val_loss: 0.5021 - val_accuracy: 0.8416\n",
            "Epoch 16/30\n",
            "625/625 - 2s - loss: 0.0787 - accuracy: 0.9746 - val_loss: 0.5521 - val_accuracy: 0.8311\n",
            "Epoch 17/30\n",
            "625/625 - 2s - loss: 0.0735 - accuracy: 0.9765 - val_loss: 0.5583 - val_accuracy: 0.8348\n",
            "Epoch 18/30\n",
            "625/625 - 2s - loss: 0.0675 - accuracy: 0.9790 - val_loss: 0.5864 - val_accuracy: 0.8344\n",
            "Epoch 19/30\n",
            "625/625 - 2s - loss: 0.0620 - accuracy: 0.9811 - val_loss: 0.6116 - val_accuracy: 0.8314\n",
            "Epoch 20/30\n",
            "625/625 - 2s - loss: 0.0568 - accuracy: 0.9829 - val_loss: 0.6381 - val_accuracy: 0.8313\n",
            "Epoch 21/30\n",
            "625/625 - 2s - loss: 0.0546 - accuracy: 0.9839 - val_loss: 0.6642 - val_accuracy: 0.8304\n",
            "Epoch 22/30\n",
            "625/625 - 2s - loss: 0.0499 - accuracy: 0.9856 - val_loss: 0.7039 - val_accuracy: 0.8231\n",
            "Epoch 23/30\n",
            "625/625 - 2s - loss: 0.0464 - accuracy: 0.9866 - val_loss: 0.7245 - val_accuracy: 0.8256\n",
            "Epoch 24/30\n",
            "625/625 - 2s - loss: 0.0421 - accuracy: 0.9879 - val_loss: 0.7512 - val_accuracy: 0.8226\n",
            "Epoch 25/30\n",
            "625/625 - 2s - loss: 0.0404 - accuracy: 0.9883 - val_loss: 0.7790 - val_accuracy: 0.8217\n",
            "Epoch 26/30\n",
            "625/625 - 2s - loss: 0.0360 - accuracy: 0.9904 - val_loss: 0.8148 - val_accuracy: 0.8244\n",
            "Epoch 27/30\n",
            "625/625 - 2s - loss: 0.0344 - accuracy: 0.9912 - val_loss: 0.8654 - val_accuracy: 0.8198\n",
            "Epoch 28/30\n",
            "625/625 - 2s - loss: 0.0314 - accuracy: 0.9916 - val_loss: 0.8869 - val_accuracy: 0.8129\n",
            "Epoch 29/30\n",
            "625/625 - 2s - loss: 0.0308 - accuracy: 0.9911 - val_loss: 0.9215 - val_accuracy: 0.8174\n",
            "Epoch 30/30\n",
            "625/625 - 2s - loss: 0.0272 - accuracy: 0.9931 - val_loss: 0.9405 - val_accuracy: 0.8132\n"
          ],
          "name": "stdout"
        }
      ]
    },
    {
      "cell_type": "markdown",
      "metadata": {
        "id": "KGVw9HJ88lPL"
      },
      "source": [
        "# Graph"
      ]
    },
    {
      "cell_type": "code",
      "metadata": {
        "colab": {
          "base_uri": "https://localhost:8080/",
          "height": 541
        },
        "id": "MpNJhwwHwuhY",
        "outputId": "9708331d-6704-4dfc-cf1c-f15a08c6679e"
      },
      "source": [
        "import matplotlib.pyplot as plt\n",
        "\n",
        "\n",
        "def plot_graphs(history, string):\n",
        "  plt.plot(history.history[string])\n",
        "  plt.plot(history.history['val_'+string])\n",
        "  plt.xlabel(\"Epochs\")\n",
        "  plt.ylabel(string)\n",
        "  plt.legend([string, 'val_'+string])\n",
        "  plt.show()\n",
        "  \n",
        "plot_graphs(history, \"accuracy\")\n",
        "plot_graphs(history, \"loss\")"
      ],
      "execution_count": null,
      "outputs": [
        {
          "output_type": "display_data",
          "data": {
            "image/png": "[encoded data removed]",
            "text/plain": [
              "<Figure size 432x288 with 1 Axes>"
            ]
          },
          "metadata": {
            "tags": [],
            "needs_background": "light"
          }
        },
        {
          "output_type": "display_data",
          "data": {
            "image/png": "[encoded data removed]",
            "text/plain": [
              "<Figure size 432x288 with 1 Axes>"
            ]
          },
          "metadata": {
            "tags": [],
            "needs_background": "light"
          }
        }
      ]
    },
    {
      "cell_type": "markdown",
      "metadata": {
        "id": "ET7POJeH8xkQ"
      },
      "source": [
        "# Visualizing the Data"
      ]
    },
    {
      "cell_type": "code",
      "metadata": {
        "colab": {
          "base_uri": "https://localhost:8080/"
        },
        "id": "eZmhkBuRw0EE",
        "outputId": "143b9438-7786-43b9-8ae3-c95b5914e62c"
      },
      "source": [
        "reverse_word_index = dict([(value, key) for (key, value) in word_index.items()])\n",
        "\n",
        "def decode_sentence(text):\n",
        "    return ' '.join([reverse_word_index.get(i, '?') for i in text])\n",
        "\n",
        "print(decode_sentence(training_padded[0]))\n",
        "print(training_sentences[2])\n",
        "print(labels[2])"
      ],
      "execution_count": null,
      "outputs": [
        {
          "output_type": "stream",
          "text": [
            "former <OOV> store clerk sues over secret 'black <OOV> for minority shoppers ? ? ? ? ? ? ? ? ? ? ? ? ? ? ? ? ? ? ? ? ? ? ? ? ? ? ? ? ? ? ? ? ? ? ? ? ? ? ? ? ? ? ? ? ? ? ? ? ? ? ? ? ? ? ? ? ? ? ? ? ? ? ? ? ? ? ? ? ? ? ? ? ? ? ? ? ? ? ? ? ? ? ? ? ? ? ? ?\n",
            "mom starting to fear son's web series closest thing she will have to grandchild\n",
            "1\n"
          ],
          "name": "stdout"
        }
      ]
    },
    {
      "cell_type": "code",
      "metadata": {
        "colab": {
          "base_uri": "https://localhost:8080/"
        },
        "id": "6ohn7FdVw1FH",
        "outputId": "1e85a722-e9c6-48fa-ba80-6fd48413f747"
      },
      "source": [
        "e = model.layers[0]\n",
        "weights = e.get_weights()[0]\n",
        "print(weights.shape) # shape: (vocab_size, embedding_dim)"
      ],
      "execution_count": null,
      "outputs": [
        {
          "output_type": "stream",
          "text": [
            "(10000, 16)\n"
          ],
          "name": "stdout"
        }
      ]
    },
    {
      "cell_type": "code",
      "metadata": {
        "id": "o5kjxFjRw5oT"
      },
      "source": [
        "import io\n",
        "\n",
        "out_v = io.open('Sarcastic Headlines vecs.tsv', 'w', encoding='utf-8')\n",
        "out_m = io.open('Sarcastic Headlines meta.tsv', 'w', encoding='utf-8')\n",
        "for word_num in range(1, vocab_size):\n",
        "  word = reverse_word_index[word_num]\n",
        "  embeddings = weights[word_num]\n",
        "  out_m.write(word + \"\\n\")\n",
        "  out_v.write('\\t'.join([str(x) for x in embeddings]) + \"\\n\")\n",
        "out_v.close()\n",
        "out_m.close()"
      ],
      "execution_count": null,
      "outputs": []
    },
    {
      "cell_type": "code",
      "metadata": {
        "colab": {
          "base_uri": "https://localhost:8080/",
          "height": 17
        },
        "id": "MmcDCCe8w8FD",
        "outputId": "55dd97b9-8e1a-4c1a-b230-fe3958a56e9a"
      },
      "source": [
        "from google.colab import files\n",
        "\n",
        "files.download('Sarcastic Headlines vecs.tsv')\n",
        "files.download('Sarcastic Headlines meta.tsv')"
      ],
      "execution_count": null,
      "outputs": [
        {
          "output_type": "display_data",
          "data": {
            "application/javascript": [
              "\n",
              "    async function download(id, filename, size) {\n",
              "      if (!google.colab.kernel.accessAllowed) {\n",
              "        return;\n",
              "      }\n",
              "      const div = document.createElement('div');\n",
              "      const label = document.createElement('label');\n",
              "      label.textContent = `Downloading \"${filename}\": `;\n",
              "      div.appendChild(label);\n",
              "      const progress = document.createElement('progress');\n",
              "      progress.max = size;\n",
              "      div.appendChild(progress);\n",
              "      document.body.appendChild(div);\n",
              "\n",
              "      const buffers = [];\n",
              "      let downloaded = 0;\n",
              "\n",
              "      const channel = await google.colab.kernel.comms.open(id);\n",
              "      // Send a message to notify the kernel that we're ready.\n",
              "      channel.send({})\n",
              "\n",
              "      for await (const message of channel.messages) {\n",
              "        // Send a message to notify the kernel that we're ready.\n",
              "        channel.send({})\n",
              "        if (message.buffers) {\n",
              "          for (const buffer of message.buffers) {\n",
              "            buffers.push(buffer);\n",
              "            downloaded += buffer.byteLength;\n",
              "            progress.value = downloaded;\n",
              "          }\n",
              "        }\n",
              "      }\n",
              "      const blob = new Blob(buffers, {type: 'application/binary'});\n",
              "      const a = document.createElement('a');\n",
              "      a.href = window.URL.createObjectURL(blob);\n",
              "      a.download = filename;\n",
              "      div.appendChild(a);\n",
              "      a.click();\n",
              "      div.remove();\n",
              "    }\n",
              "  "
            ],
            "text/plain": [
              "<IPython.core.display.Javascript object>"
            ]
          },
          "metadata": {
            "tags": []
          }
        },
        {
          "output_type": "display_data",
          "data": {
            "application/javascript": [
              "download(\"download_4d87542b-649b-45c4-8121-a0307ea8c90f\", \"Sarcastic Headlines vecs.tsv\", 1808566)"
            ],
            "text/plain": [
              "<IPython.core.display.Javascript object>"
            ]
          },
          "metadata": {
            "tags": []
          }
        },
        {
          "output_type": "display_data",
          "data": {
            "application/javascript": [
              "\n",
              "    async function download(id, filename, size) {\n",
              "      if (!google.colab.kernel.accessAllowed) {\n",
              "        return;\n",
              "      }\n",
              "      const div = document.createElement('div');\n",
              "      const label = document.createElement('label');\n",
              "      label.textContent = `Downloading \"${filename}\": `;\n",
              "      div.appendChild(label);\n",
              "      const progress = document.createElement('progress');\n",
              "      progress.max = size;\n",
              "      div.appendChild(progress);\n",
              "      document.body.appendChild(div);\n",
              "\n",
              "      const buffers = [];\n",
              "      let downloaded = 0;\n",
              "\n",
              "      const channel = await google.colab.kernel.comms.open(id);\n",
              "      // Send a message to notify the kernel that we're ready.\n",
              "      channel.send({})\n",
              "\n",
              "      for await (const message of channel.messages) {\n",
              "        // Send a message to notify the kernel that we're ready.\n",
              "        channel.send({})\n",
              "        if (message.buffers) {\n",
              "          for (const buffer of message.buffers) {\n",
              "            buffers.push(buffer);\n",
              "            downloaded += buffer.byteLength;\n",
              "            progress.value = downloaded;\n",
              "          }\n",
              "        }\n",
              "      }\n",
              "      const blob = new Blob(buffers, {type: 'application/binary'});\n",
              "      const a = document.createElement('a');\n",
              "      a.href = window.URL.createObjectURL(blob);\n",
              "      a.download = filename;\n",
              "      div.appendChild(a);\n",
              "      a.click();\n",
              "      div.remove();\n",
              "    }\n",
              "  "
            ],
            "text/plain": [
              "<IPython.core.display.Javascript object>"
            ]
          },
          "metadata": {
            "tags": []
          }
        },
        {
          "output_type": "display_data",
          "data": {
            "application/javascript": [
              "download(\"download_c7c3c293-fa06-49f5-967a-8aa7211e8d5b\", \"Sarcastic Headlines meta.tsv\", 75974)"
            ],
            "text/plain": [
              "<IPython.core.display.Javascript object>"
            ]
          },
          "metadata": {
            "tags": []
          }
        }
      ]
    },
    {
      "cell_type": "markdown",
      "metadata": {
        "id": "43as3XDW8rj6"
      },
      "source": [
        "# Output"
      ]
    },
    {
      "cell_type": "code",
      "metadata": {
        "colab": {
          "base_uri": "https://localhost:8080/"
        },
        "id": "ZzTQRUc9w84A",
        "outputId": "66e3738b-39a5-4c0f-a618-23a00be94f1a"
      },
      "source": [
        "sentence = [\"granny starting to fear spiders in the garden might be real\", \"game of thrones season finale showing this sunday night\"]\n",
        "sequences = tokenizer.texts_to_sequences(sentence)\n",
        "padded = pad_sequences(sequences, maxlen=max_length, padding=padding_type, truncating=trunc_type)\n",
        "print(model.predict(padded))"
      ],
      "execution_count": null,
      "outputs": [
        {
          "output_type": "stream",
          "text": [
            "[[9.077153e-01]\n",
            " [8.531511e-04]]\n"
          ],
          "name": "stdout"
        }
      ]
    },
    {
      "cell_type": "code",
      "metadata": {
        "id": "PgBccyBax5Z5",
        "colab": {
          "base_uri": "https://localhost:8080/"
        },
        "outputId": "eb6d1a8e-e465-4c9c-c123-efc79cc54acd"
      },
      "source": [
        "inp=input()\n",
        "sentence = [inp]\n",
        "sequences = tokenizer.texts_to_sequences(sentence)\n",
        "padded = pad_sequences(sequences, maxlen=max_length, padding=padding_type, truncating=trunc_type)\n",
        "pred=model.predict(padded)[0][0]\n",
        "print(pred)\n",
        "if(pred>0.5):\n",
        "  print(\"The headline is sarcastic\")\n",
        "else:\n",
        "  print(\"The headline is not sarcastic\")"
      ],
      "execution_count": null,
      "outputs": [
        {
          "output_type": "stream",
          "text": [
            "Fewer deer than expected after hunt\n",
            "0.9939872\n",
            "The headline is sarcastic\n"
          ],
          "name": "stdout"
        }
      ]
    },
    {
      "cell_type": "code",
      "metadata": {
        "id": "5TBroUbCDFqw"
      },
      "source": [
        ""
      ],
      "execution_count": null,
      "outputs": []
    }
  ]
}